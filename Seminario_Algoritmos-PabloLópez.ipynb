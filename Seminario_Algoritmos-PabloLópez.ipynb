{
  "nbformat": 4,
  "nbformat_minor": 0,
  "metadata": {
    "colab": {
      "provenance": []
    },
    "kernelspec": {
      "name": "python3",
      "display_name": "Python 3 (ipykernel)",
      "language": "python"
    }
  },
  "cells": [
    {
      "cell_type": "markdown",
      "metadata": {
        "id": "hVbXYX-RfPWh"
      },
      "source": [
        "# Algoritmos de optimización - Seminario<br>\n",
        "Nombre y Apellidos: Pablo López Lorente\n",
        "\n",
        "\n",
        "Url:https://github.com/PabloL00Monreal/Algoritmos-de-Optimizaci-n/blob/main/Seminario_Algoritmos-PabloL%C3%B3pez.ipynb\n",
        "\n",
        "Collab: https://colab.research.google.com/github/PabloL00Monreal/Algoritmos-de-Optimizaci-n/blob/main/Seminario_Algoritmos-PabloL%C3%B3pez.ipynb\n",
        "\n",
        "\n",
        "Problema:\n",
        "\n",
        ">2. Organizar los horarios de partidos de La Liga<br>\n",
        "\n",
        "Descripción del problema:\n",
        "\n",
        "....\n",
        "\n",
        "(*) La respuesta es obligatoria\n",
        "\n",
        "\n",
        "\n",
        "\n",
        "\n",
        "                                        "
      ]
    },
    {
      "cell_type": "code",
      "metadata": {
        "id": "AiskKkzZfy4e",
        "ExecuteTime": {
          "end_time": "2025-07-09T19:54:47.668111Z",
          "start_time": "2025-07-09T19:54:47.664423Z"
        }
      },
      "source": [
        "import math\n",
        "import random"
      ],
      "outputs": [],
      "execution_count": 6
    },
    {
      "cell_type": "markdown",
      "metadata": {
        "id": "3_-exlrTgLd-"
      },
      "source": [
        "(*)¿Cuantas posibilidades hay sin tener en cuenta las restricciones?<br>\n",
        "\n",
        "\n",
        "\n",
        "¿Cuantas posibilidades hay teniendo en cuenta todas las restricciones?\n",
        "\n",
        "\n"
      ]
    },
    {
      "metadata": {
        "id": "4cmNWJwnw_Dw"
      },
      "cell_type": "markdown",
      "source": [
        "Para calcular las posibilidades exito de este problema, primero, se ha de calcular cuántas formas distintas hay de emparejar los equipos en partidos únicos, teniendo en cuenta que el orden no importa. Para ello, se utiliza una fórmula combinatoria basada en el factorial del número de equipos. Luego, se calculan todas las posibles asignaciones de horarios, considerando que cada partido puede ocupar cualquiera de los horarios propuestos por La LIga disponibles. Finalmente, se multiplican ambas cantidades para obtener el total de combinaciones posibles sin restricciones.\n",
        "\n",
        "Para las restricciones, se ha de tener en cuanta la obligatoriedad de incluir un partido el viernes y uno el lunes, lo que reduce las combinaciones posibles del resto de horarios disponibles"
      ]
    },
    {
      "metadata": {
        "ExecuteTime": {
          "end_time": "2025-07-07T19:36:23.529790Z",
          "start_time": "2025-07-07T19:36:23.524367Z"
        },
        "colab": {
          "base_uri": "https://localhost:8080/"
        },
        "id": "7Vs0sio2w_Dw",
        "outputId": "e77e28ad-c490-4ebf-e9de-b35d70d86ef7"
      },
      "cell_type": "code",
      "source": [
        "# En primer lugar, calculo el nºde emparejamientos posibles\n",
        "num_equipos = 20\n",
        "num_partidos = num_equipos // 2\n",
        "\n",
        "# Para n=20 equipos, el número de formas de emparejarlos es:\n",
        "# n! / (2^(n/2) * (n/2)!, dado que es par\n",
        "\n",
        "# Calculamos el factorial de 20\n",
        "factorial_equipos = math.factorial(num_equipos)\n",
        "\n",
        "# Calculamos 2^10\n",
        "potencia_num_partidos = 2 ** num_partidos\n",
        "\n",
        "# Calculamos el factorial de 10\n",
        "factorial_num_partidos = math.factorial(num_partidos)\n",
        "\n",
        "# Fórmula completa para emparejamientos\n",
        "emparejamientos = factorial_equipos // (potencia_num_partidos * factorial_num_partidos)\n",
        "\n",
        "# En segundo lugar, se realiza el cálculo de asignaciones de horarios\n",
        "# Hay 10 horarios posibles y 10 partidos\n",
        "num_horarios = 10\n",
        "asignaciones_horarios = num_horarios ** num_partidos\n",
        "\n",
        "# Cálculo final de posibilidades\n",
        "total_sin_restricciones = emparejamientos * asignaciones_horarios\n",
        "\n",
        "print(f\"Posibilidades totales sin restricciones: {total_sin_restricciones:,}\")\n",
        "\n"
      ],
      "outputs": [
        {
          "output_type": "stream",
          "name": "stdout",
          "text": [
            "Posibilidades totales sin restricciones: 6,547,290,750,000,000,000\n"
          ]
        }
      ],
      "execution_count": 2
    },
    {
      "metadata": {
        "ExecuteTime": {
          "end_time": "2025-07-07T19:36:23.549261Z",
          "start_time": "2025-07-07T19:36:23.544861Z"
        },
        "colab": {
          "base_uri": "https://localhost:8080/"
        },
        "id": "xt4RSkkVw_Dx",
        "outputId": "75e823da-a4ec-4f6d-aac4-0f04830bc01e"
      },
      "cell_type": "code",
      "source": [
        "# En segundo lugar, se realiza el cálculo de asignaciones de horarios con restricciones:\n",
        "# Restricciones:\n",
        "# - 1 partido debe ser el viernes\n",
        "# - 1 partido debe ser el lunes\n",
        "# - Los otros 8 partidos usan horarios restantes\n",
        "\n",
        "# Primero se calcula que partido será el viernes\n",
        "opciones_viernes = num_partidos  # 10 partidos disponibles\n",
        "\n",
        "# Luego, cuál será el lunes\n",
        "opciones_lunes = num_partidos - 1  # 9 partidos restantes\n",
        "\n",
        "# Por último. se asignan horarios a los 8 partidos restantes\n",
        "horarios_disponibles = num_horarios - 2\n",
        "opciones_resto = horarios_disponibles ** (num_partidos - 2)\n",
        "\n",
        "# Fórmula completa para asignaciones con restricciones\n",
        "asignaciones_horarios = opciones_viernes * opciones_lunes * opciones_resto\n",
        "\n",
        "#Cálculo de posibilidades con restricciones\n",
        "\n",
        "total_con_restricciones = emparejamientos * asignaciones_horarios\n",
        "\n",
        "print(f\"Posibilidades totales con restricciones: {total_con_restricciones:,}\")\n"
      ],
      "outputs": [
        {
          "output_type": "stream",
          "name": "stdout",
          "text": [
            "Posibilidades totales con restricciones: 988,607,800,147,968,000\n"
          ]
        }
      ],
      "execution_count": 3
    },
    {
      "cell_type": "markdown",
      "metadata": {
        "id": "WfCUqJyKhPcw"
      },
      "source": [
        "El nº de posibilidades que hay sin tener en cuenta las restricciones son: 6,547,290,750,000,000,000\n",
        "\n",
        "El nº de posibilidades que hay teniendo en cuenta las restricciones son: 988,607,800,147,968,000"
      ]
    },
    {
      "cell_type": "markdown",
      "metadata": {
        "id": "dzynfVJahHoY"
      },
      "source": [
        "Modelo para el espacio de soluciones<br>\n",
        "(*) ¿Cual es la estructura de datos que mejor se adapta al problema? Argumentalo.(Es posible que hayas elegido una al principio y veas la necesidad de cambiar, arguentalo)\n"
      ]
    },
    {
      "cell_type": "markdown",
      "metadata": {
        "id": "xFIJrOwKi2Ti"
      },
      "source": [
        "El diccionario es, en mi opinión, la estructura de datos que mejor se ajusta al problema, ya que permite representar de forma clara y eficiente la relación entre cada partido (clave) y el horario que se le ha asignado (valor). Esto es especialmente útil en el algoritmo de backtracking, donde se necesita acceder rápidamente a los horarios asignados para comprobar restricciones como evitar que varios partidos coincidan en la misma franja o que un mismo equipo juegue dos veces. También se han utilizado diccionarios para almacenar la información estática del problema, como el coeficiente de audiencia por horario (coef_horario), la penalización por coincidencia (penalizacion), las categorías de los equipos (categorias) y la audiencia base según el tipo de enfrentamiento (audiencia_base). Su estructura clave-valor permite acceder a estos datos de forma directa y eficiente, lo que resulta esencial para el cálculo de la audiencia.\n",
        "\n",
        "Además, se han utilizado tuplas para representar los partidos como pares inmutables de equipos, por ejemplo: (\"A1\", \"B3\"). Esta elección es adecuada porque las tuplas son inmutables, aseguran que el orden de los equipos no cambie accidentalmente, y pueden usarse como claves en diccionarios, algo necesario para que cada partido esté vinculado a un horario concreto en la asignación.\n",
        "\n",
        "Las listas se emplean principalmente para manejar datos que cambian o que deben recorrerse en orden, como la lista de equipos disponibles para emparejar (equipos_disponibles), la lista de horarios (horarios) o la lista de partidos generados. Estas listas se copian y modifican durante el algoritmo para mantener estados intermedios sin afectar al original, lo que es fundamental en el proceso de backtracking.\n",
        "\n",
        "Por último, durante la generación aleatoria de partidos se ha utilizado un conjunto (set) para almacenar los partidos sin duplicados. Esto permite asegurarse de que cada partido generado sea único sin necesidad de comprobar manualmente si ya existe, lo que simplifica y acelera la construcción inicial de datos.\n",
        "\n",
        "En conjunto, esta combinación de estructuras diccionarios, tuplas, listas y conjuntos permite modelar el problema de forma clara, ordenada y eficiente, adaptándose a las distintas necesidades del algoritmo y del tipo de datos que se manejan.\n"
      ]
    },
    {
      "cell_type": "markdown",
      "metadata": {
        "id": "7Z9U2W7bi-XS"
      },
      "source": [
        "Según el modelo para el espacio de soluciones<br>\n",
        "(*)¿Cual es la función objetivo?\n",
        "\n",
        "(*)¿Es un problema de maximización o minimización?"
      ]
    },
    {
      "cell_type": "markdown",
      "metadata": {
        "id": "hBalWLM7j1_d"
      },
      "source": [
        "La función objetivo del problema consiste en maximizar la audiencia total generada por la asignación de los partidos a las franjas horarias disponibles. Cada partido genera una determeinada audiencia en función de 3 factores:\n",
        "    - Tipo de equipos que se enfrentan (A,B,C)\n",
        "    - Franja horaria asignada\n",
        "    - Número de partidos coincidentes\n",
        " Por tanto, la función objetivo a maximizar es:\n",
        "\n",
        "∑(Audiencia_Base * Coeficiente_horario * Reduccion_por_coincidencia)\n",
        "\n",
        "Se trata de una función de maximización ya que el objetivo final es asignar los partidos de forma que se logre la mayor audiencia posible, es decir, hay una ganancia a maximizar."
      ]
    },
    {
      "cell_type": "markdown",
      "metadata": {
        "id": "rlnTYgY1j6I2"
      },
      "source": [
        "Diseña un algoritmo para resolver el problema por fuerza bruta"
      ]
    },
    {
      "cell_type": "code",
      "metadata": {
        "id": "CJb5sQ0qkENy",
        "ExecuteTime": {
          "end_time": "2025-07-07T19:36:27.992882Z",
          "start_time": "2025-07-07T19:36:23.592812Z"
        },
        "colab": {
          "base_uri": "https://localhost:8080/"
        },
        "outputId": "0ae4e57f-2af6-4864-a9f1-c05b2524831a"
      },
      "source": [
        "# Datos del enunciado:\n",
        "# Categorías según el enunciado\n",
        "equipos_A = [\"A1\", \"A2\", \"A3\"]\n",
        "equipos_B = [\"B1\", \"B2\", \"B3\", \"B4\", \"B5\", \"B6\", \"B7\", \"B8\", \"B9\", \"B10\", \"B11\"]\n",
        "equipos_C = [\"C1\", \"C2\", \"C3\", \"C4\", \"C5\", \"C6\"]\n",
        "\n",
        "# Unimos todos los equipos en una sola lista\n",
        "\n",
        "equipos_totales = equipos_A + equipos_B + equipos_C\n",
        "\n",
        "# Horarios segun el enunciado\n",
        "horarios = [\"Viernes 20\", \"Sábado 12\", \"Sábado 16\", \"Sábado 18\", \"Sábado 20\",\n",
        "            \"Domingo 12\", \"Domingo 16\", \"Domingo 18\", \"Domingo 20\", \"Lunes 20\"]\n",
        "\n",
        "# Categorías de equipos\n",
        "categorias = {\n",
        "    \"A1\": \"A\", \"A2\": \"A\", \"A3\": \"A\",\n",
        "    \"B1\": \"B\", \"B2\": \"B\", \"B3\": \"B\", \"B4\": \"B\", \"B5\": \"B\", \"B6\": \"B\", \"B7\": \"B\", \"B8\": \"B\",\"B9\": \"B\",\"B10\": \"B\", \"B11\": \"B\",\n",
        "    \"C1\": \"C\", \"C2\":\"C\", \"C3\": \"C\", \"C4\": \"C\", \"C5\": \"C\", \"C6\": \"C\"\n",
        "}\n",
        "\n",
        "# Audiencia base según categorías de enfrentamientos\n",
        "audiencia_base = {\n",
        "    (\"A\", \"A\"): 2.0,\n",
        "    (\"A\", \"B\"): 1.3,\n",
        "    (\"A\", \"C\"): 1.0,\n",
        "    (\"B\", \"B\"): 0.75,\n",
        "    (\"B\", \"C\"): 0.6,\n",
        "    (\"C\", \"C\"): 0.5\n",
        "}\n",
        "\n",
        "# Coeficiente de audiencia según horario\n",
        "coef_horario = {\n",
        "    \"Viernes 20\": 0.4,\n",
        "    \"Sábado 12\": 0.55,\n",
        "    \"Sábado 16\": 0.7,\n",
        "    \"Sábado 18\": 0.8,\n",
        "    \"Sábado 20\": 1.0,\n",
        "    \"Domingo 12\": 0.45,\n",
        "    \"Domingo 16\": 0.75,\n",
        "    \"Domingo 18\": 0.85,\n",
        "    \"Domingo 20\": 1.0,\n",
        "    \"Lunes 20\": 0.4\n",
        "}\n",
        "\n",
        "# Penalización por coincidencia\n",
        "\n",
        "penalizacion = {\n",
        "    0: 1.0,  # sin coincidencias\n",
        "    1: 0.9,\n",
        "    2: 0.75,\n",
        "    3: 0.6\n",
        "}\n",
        "\n",
        "# Calcular audiencia para una asignación\n",
        "\n",
        "# Función que calcula la audiencia total de una asignación de partidos a horarios\n",
        "def calcular_audiencia(asignacion):\n",
        "    total = 0\n",
        "    coincidencias = {}\n",
        "\n",
        "    # Contamos cuántos partidos hay en cada horario (para aplicar penalización)\n",
        "    for horario in asignacion.values():\n",
        "        coincidencias[horario] = coincidencias.get(horario, 0) + 1\n",
        "\n",
        "    # Para cada partido, calculamos su contribución a la audiencia\n",
        "    for partido, horario in asignacion.items():\n",
        "        c1 = categorias[partido[0]]  # Categoría del equipo 1\n",
        "        c2 = categorias[partido[1]]  # Categoría del equipo 2\n",
        "\n",
        "        # Buscamos la audiencia base del tipo de partido (A vs B, C vs C, etc.)\n",
        "        base = audiencia_base.get((c1, c2), audiencia_base.get((c2, c1), 0))\n",
        "\n",
        "        coef = coef_horario[horario]  # Coeficiente según la franja horaria\n",
        "        penal = penalizacion.get(coincidencias[horario] - 1, 0.7)  # Penalización si hay partidos a la vez\n",
        "\n",
        "        # Suma la audiencia del partido al total\n",
        "        total += base * coef * penal\n",
        "\n",
        "    return total  # Devuelve la audiencia total de esa asignación\n",
        "\n",
        "\n",
        "# Función para generar todas las permutaciones posibles\n",
        "\n",
        "def generar_permutaciones(lista):\n",
        "    n = len(lista)\n",
        "    resultado = []\n",
        "\n",
        "    # Creamos una batería de posibles combinaciones\n",
        "    bateria_partidos = [(lista[:], 0)]\n",
        "    while bateria_partidos:\n",
        "        array, i = bateria_partidos.pop()\n",
        "        if i == n:\n",
        "            resultado.append(array[:])  # Si hemos llegado al final, guardamos la permutación\n",
        "        else:\n",
        "            for j in range(i, n):\n",
        "                array[i], array[j] = array[j], array[i]  # Intercambiamos elementos\n",
        "                bateria_partidos.append((array[:], i + 1))  # Añadimos la nueva combinación a la pila\n",
        "                array[i], array[j] = array[j], array[i]  # Deshacemos el cambio\n",
        "    return resultado  # Devuelve todas las permutaciones posibles\n",
        "\n",
        "\n",
        "# Inicializamos la mejor audiencia como cero\n",
        "\n",
        "mejor_audiencia = 0\n",
        "mejor_asignacion = {}\n",
        "\n",
        "# Generamos todas las posibles formas de asignar los horarios\n",
        "todas_permutaciones = generar_permutaciones(horarios)\n",
        "\n",
        "# Probamos cada permutación de horarios para ver cuál da más audiencia\n",
        "for perm in todas_permutaciones:\n",
        "    asignacion = {}\n",
        "    for i in range(len(partidos)):\n",
        "        asignacion[partidos[i]] = perm[i]  # Asignamos un horario a cada partido\n",
        "\n",
        "    audiencia = calcular_audiencia(asignacion)  # Calculamos la audiencia total\n",
        "\n",
        "    # Si la nueva asignación mejora la mejor audiencia guardada, la actualizamos\n",
        "    if audiencia > mejor_audiencia:\n",
        "        mejor_audiencia = audiencia\n",
        "        mejor_asignacion = asignacion.copy()\n",
        "\n",
        "#partidos = (('A1', 'C5'), ('B11', 'C1'), ('A2', 'B9'), ('B7', 'C3'), ('B1', 'B10'), ('A3', 'B6'), ('B2', 'C2'), ('B8', 'C4'), ('B3', 'B5'), ('B4', 'C6'))\n",
        "\n",
        "# Mostramos la mejor asignación encontrada y su audiencia total\n",
        "print(\"Mejor asignación encontrada:\")\n",
        "for partido, horario in mejor_asignacion.items():\n",
        "    print(f\"{partido[0]} vs {partido[1]} → {horario}\")\n",
        "print(f\" Audiencia total: {mejor_audiencia:.2f} millones\")\n",
        "\n"
      ],
      "outputs": [
        {
          "output_type": "stream",
          "name": "stdout",
          "text": [
            "Mejor asignación encontrada:\n",
            "C4 vs C6 → Lunes 20\n",
            "B8 vs B9 → Domingo 16\n",
            "A2 vs B10 → Domingo 20\n",
            "B4 vs C2 → Sábado 12\n",
            "B2 vs C3 → Domingo 12\n",
            "A3 vs B5 → Sábado 20\n",
            "C1 vs C5 → Viernes 20\n",
            "B1 vs B11 → Sábado 18\n",
            "B6 vs B7 → Sábado 16\n",
            "A1 vs B3 → Domingo 18\n",
            " Audiencia total: 6.39 millones\n"
          ]
        }
      ],
      "execution_count": 10
    },
    {
      "cell_type": "markdown",
      "metadata": {
        "id": "tgrnsC2nkFa8"
      },
      "source": [
        "Calcula la complejidad del algoritmo por fuerza bruta"
      ]
    },
    {
      "cell_type": "markdown",
      "metadata": {
        "id": "9eUd3xwckP68"
      },
      "source": [
        "El algoritmo de fuerza bruta tiene una complejidad de O(n!), donde n representa la cantidad de partidos a asignar. Esto ocurre porque se producen todas las posibles permutaciones de los horarios, es decir, todas las maneras de asignar n horarios a n partidos, lo cual se traduce en n! posibilidades. Se evalúa la función calcular_audiencia por cada una de estas permutaciones, la cual posee una complejidad O(n) ya que recorre todos los partidos una sola vez. Así pues , la totalidad de la complejidad del algoritmo es O(n × n!). Este incremento es factorial, lo que implica que el tiempo de implementación se acelera considerablemente a medida que se incrementa la cantidad de partidos.\n",
        "\n",
        "Por ejemplo, para este caso, con solo 10 partidos ya hay millones de combinaciones posibles. Por eso este enfoque solo es viable para casos pequeños y se vuelve ineficiente a gran escala."
      ]
    },
    {
      "cell_type": "markdown",
      "metadata": {
        "id": "txbrmLmskReM"
      },
      "source": [
        "(*)Diseña un algoritmo que mejore la complejidad del algortimo por fuerza bruta. Argumenta porque crees que mejora el algoritmo por fuerza bruta"
      ]
    },
    {
      "cell_type": "markdown",
      "metadata": {
        "id": "hLrVwt5QkZPD"
      },
      "source": [
        "Este algoritmo mejora significativamente el enfoque por fuerza bruta gracias al uso de backtracking. Mientras que la fuerza bruta genera todas las permutaciones posibles de horarios (n!), evalúa cada una completa, y luego compara, este algoritmo va construyendo soluciones paso a paso, evaluando solo aquellas que tienen potencial de mejorar la mejor solución actual. Gracias a la función calcular_max_posible, se realiza una estimación optimista del máximo beneficio posible desde el estado actual, y si ya se sabe que no puede superar el mejor resultado encontrado, se evita explorar esa rama . Así, en lugar de explorar el espacio completo de soluciones, solo se evalúan las ramas prometedoras, lo que reduce el número de combinaciones necesarias y mejora el rendimiento. Es un enfoque mucho más escalable y eficiente, sobre todo cuando el número de partidos crece"
      ]
    },
    {
      "cell_type": "code",
      "metadata": {
        "id": "m1eyM21Vkabg",
        "ExecuteTime": {
          "end_time": "2025-07-07T19:36:27.992795100Z",
          "start_time": "2025-07-07T19:24:09.039403Z"
        }
      },
      "source": [
        "# Inicializamos la mejor audiencia como cero\n",
        "\n",
        "mejor_audiencia = 0\n",
        "mejor_asignacion = {}\n",
        "\n",
        "\n",
        "# Función principal de backtracking\n",
        "def backtracking(asignacion_actual, partidos_restantes, horarios_disponibles):\n",
        "    global mejor_audiencia, mejor_asignacion\n",
        "\n",
        "    # Caso base: ya no quedan partidos por asignar\n",
        "    if not partidos_restantes:\n",
        "        audiencia = calcular_audiencia(asignacion_actual)\n",
        "        # Si la audiencia de esta asignación es mejor que la mejor hasta ahora, la guardamos\n",
        "        if audiencia > mejor_audiencia:\n",
        "            mejor_audiencia = audiencia\n",
        "            mejor_asignacion = asignacion_actual.copy()\n",
        "        return\n",
        "\n",
        "    # Seleccionamos el siguiente partido a asignar\n",
        "    partido = partidos_restantes[0]\n",
        "\n",
        "    # Probamos todos los horarios disponibles para este partido\n",
        "    for i, horario in enumerate(horarios_disponibles):\n",
        "        nuevos_horarios = horarios_disponibles[:]  # Copia para evitar modificar la lista original\n",
        "\n",
        "        asignacion_actual[partido] = horario  # Asignamos este horario al partido\n",
        "\n",
        "        nuevos_horarios.pop(i)  # Eliminamos el horario asignado de la lista disponible\n",
        "\n",
        "        # Estimación optimista del máximo que se puede alcanzar desde esta asignación parcial\n",
        "        max_posible = calcular_max_posible(asignacion_actual, partidos_restantes[1:], nuevos_horarios)\n",
        "\n",
        "        # Si ni en el mejor caso podríamos superar la mejor audiencia actual, no seguimos por aquí (poda)\n",
        "        if max_posible <= mejor_audiencia:\n",
        "            continue  # Saltamos esta rama del árbol de decisiones\n",
        "\n",
        "        # Llamada recursiva para seguir asignando el resto de partidos\n",
        "        backtracking(asignacion_actual, partidos_restantes[1:], nuevos_horarios)\n",
        "\n",
        "        # Deshacemos la asignación para probar otro horario\n",
        "        del asignacion_actual[partido]\n",
        "\n",
        "\n",
        "# Función que estima la mejor audiencia que podríamos conseguir desde el estado actual\n",
        "def calcular_max_posible(asignacion_parcial, partidos_restantes, horarios_disponibles):\n",
        "    # Calculamos la audiencia de lo que ya está asignado\n",
        "    audiencia_actual = calcular_audiencia(asignacion_parcial)\n",
        "\n",
        "    # Contamos cuántos horarios quedan disponibles de cada tipo\n",
        "    horarios_restantes = {}\n",
        "    for h in horarios_disponibles:\n",
        "        horarios_restantes[h] = horarios_restantes.get(h, 0) + 1\n",
        "\n",
        "    max_estimado = 0  # Aquí vamos sumando la mejor audiencia posible para lo que falta\n",
        "\n",
        "    for partido in partidos_restantes:\n",
        "        c1 = categorias[partido[0]]\n",
        "        c2 = categorias[partido[1]]\n",
        "        base = audiencia_base.get((c1, c2), audiencia_base.get((c2, c1), 0))\n",
        "\n",
        "        mejor_coef = 0  # Buscamos el mejor coeficiente de horario disponible\n",
        "\n",
        "        # Recorremos los horarios disponibles y elegimos el de mayor interés\n",
        "        for horario in horarios_restantes:\n",
        "            if horarios_restantes[horario] > 0 and coef_horario[horario] > mejor_coef:\n",
        "                mejor_coef = coef_horario[horario]\n",
        "\n",
        "        if mejor_coef > 0:\n",
        "            # Sumamos la audiencia de este partido suponiendo el mejor caso (sin penalización)\n",
        "            max_estimado += base * mejor_coef\n",
        "\n",
        "            # \"Reservamos\" ese horario para no usarlo dos veces\n",
        "            for h in horarios_restantes:\n",
        "                if coef_horario[h] == mejor_coef:\n",
        "                    horarios_restantes[h] -= 1\n",
        "                    break\n",
        "\n",
        "    # Devolvemos la suma de lo ya asignado más la mejor estimación para lo que queda\n",
        "    return audiencia_actual + max_estimado\n",
        "\n",
        "\n",
        "# Llamamos al algoritmo de backtracking con los datos iniciales:\n",
        "# - asignación vacía\n",
        "# - lista completa de partidos\n",
        "# - todos los horarios disponibles\n",
        "backtracking({}, partidos, horarios.copy())\n",
        "\n",
        "# Mostramos la mejor asignación encontrada y su audiencia total\n",
        "print(\" Mejor asignación encontrada:\")\n",
        "for partido, horario in mejor_asignacion.items():\n",
        "    print(f\"{partido[0]} vs {partido[1]} → {horario}\")\n",
        "\n",
        "print(f\" Audiencia total: {mejor_audiencia:.2f} millones\")\n",
        "\n"
      ],
      "outputs": [],
      "execution_count": null
    },
    {
      "cell_type": "markdown",
      "metadata": {
        "id": "eGDB4K6uk1iN"
      },
      "source": [
        "(*)Calcula la complejidad del algoritmo"
      ]
    },
    {
      "cell_type": "markdown",
      "metadata": {
        "id": "NhpTh_BPk1ms"
      },
      "source": [
        "La complejidad del algoritmo de backtracking es, en el peor de los casos, O(n × n!), ya que el algoritmo recorre todas las posibles asignaciones de horarios a partidos (n! combinaciones) y para cada una calcula la audiencia total, lo cual lleva un coste lineal O(n). Sin embargo, la gran ventaja de este enfoque frente a la fuerza bruta es el uso de poda, que permite evitar explorar ramas del árbol de decisiones que, aun en el mejor de los casos, no superarían la mejor audiencia encontrada hasta ese momento. Esto se logra mediante la función calcular_max_posible que evalúa si vale la pena seguir explorando una asignación parcial. Gracias a esta estrategia, en la práctica se reducen drásticamente las combinaciones evaluadas, mejorando el rendimiento real, especialmente en casos donde las restricciones o los valores de audiencia permiten descartar muchas opciones tempranamente. Por tanto, aunque su complejidad teórica sea igual a la de fuerza bruta, su eficiencia práctica es notablemente superior"
      ]
    },
    {
      "cell_type": "markdown",
      "metadata": {
        "id": "3M6QjTsSkmYe"
      },
      "source": [
        "Según el problema (y tenga sentido), diseña un juego de datos de entrada aleatorios"
      ]
    },
    {
      "cell_type": "markdown",
      "metadata": {
        "id": "Jc3_OlyNkvjZ"
      },
      "source": [
        "Para generar un juego de datos aleatorios se definen en primer lugar los equipos existentes, después se genera una función que añada los partidos a una lista que mediante la función \"set\" asegura que no se produzcan duplicados. El modo de funcionamiento de la función es tomar equipos aleatorios y añadirlos a la lista, después los elimina para que no se repitan en otros enfrentamientos."
      ]
    },
    {
      "cell_type": "code",
      "metadata": {
        "id": "sJ-N2etjkyWc",
        "ExecuteTime": {
          "end_time": "2025-07-09T19:55:15.265460Z",
          "start_time": "2025-07-09T19:55:15.260740Z"
        },
        "colab": {
          "base_uri": "https://localhost:8080/"
        },
        "outputId": "136c429c-7f55-46ba-f2c6-19cda5864005"
      },
      "source": [
        "#Se generan partidos de forma aleatoria\n",
        "\n",
        "equipos_A = [\"A1\", \"A2\", \"A3\"]\n",
        "equipos_B = [\"B1\", \"B2\", \"B3\", \"B4\", \"B5\", \"B6\", \"B7\", \"B8\", \"B9\", \"B10\", \"B11\"]\n",
        "equipos_C = [\"C1\", \"C2\", \"C3\", \"C4\", \"C5\", \"C6\"]\n",
        "\n",
        "equipos_totales = equipos_A+equipos_B+equipos_C\n",
        "\n",
        "def generar_partidos(equipos, n_equipos):\n",
        "    partidos = set()\n",
        "    equipos_disponibles = equipos.copy()  # Copia para no modificar la original\n",
        "    while len(partidos) < n_equipos and len(equipos_disponibles) >= 2:\n",
        "        e1, e2 = random.sample(equipos_disponibles, 2)\n",
        "        partido = tuple(sorted((e1, e2)))\n",
        "        partidos.add(partido)\n",
        "        # Elimina los equipos usados para evitar repeticiones\n",
        "        equipos_disponibles.remove(e1)\n",
        "        equipos_disponibles.remove(e2)\n",
        "    return list(partidos)\n",
        "\n",
        "\n"
      ],
      "outputs": [
        {
          "output_type": "stream",
          "name": "stdout",
          "text": [
            "[('C3', 'C4'), ('B6', 'C2'), ('B1', 'C6'), ('B4', 'C1'), ('B3', 'B7'), ('B2', 'B9'), ('A2', 'B11'), ('B8', 'C5'), ('A3', 'B5'), ('A1', 'B10')]\n"
          ]
        }
      ],
      "execution_count": 8
    },
    {
      "metadata": {
        "id": "5GW5zTRow_Dz"
      },
      "cell_type": "markdown",
      "source": []
    },
    {
      "cell_type": "markdown",
      "metadata": {
        "id": "zy5ZROmjlGo1"
      },
      "source": [
        "Aplica el algoritmo al juego de datos generado"
      ]
    },
    {
      "cell_type": "markdown",
      "metadata": {
        "id": "_Cmj-PVylMsa"
      },
      "source": [
        "Respuesta"
      ]
    },
    {
      "cell_type": "code",
      "metadata": {
        "ExecuteTime": {
          "end_time": "2025-07-09T19:55:27.060370Z",
          "start_time": "2025-07-09T19:55:16.592971Z"
        },
        "colab": {
          "base_uri": "https://localhost:8080/"
        },
        "outputId": "a96c0d32-a376-4a7b-e005-9006f014f886",
        "id": "Y4kZrehSAjbu"
      },
      "source": [
        "#Se generan partidos de forma aleatoria\n",
        "\n",
        "equipos_A = [\"A1\", \"A2\", \"A3\"]\n",
        "equipos_B = [\"B1\", \"B2\", \"B3\", \"B4\", \"B5\", \"B6\", \"B7\", \"B8\", \"B9\", \"B10\", \"B11\"]\n",
        "equipos_C = [\"C1\", \"C2\", \"C3\", \"C4\", \"C5\", \"C6\"]\n",
        "\n",
        "equipos_totales = equipos_A+equipos_B+equipos_C\n",
        "\n",
        "def generar_partidos(equipos, n_equipos):\n",
        "    partidos = set()\n",
        "    equipos_disponibles = equipos.copy()  # Copia para no modificar la original\n",
        "    while len(partidos) < n_equipos and len(equipos_disponibles) >= 2:\n",
        "        e1, e2 = random.sample(equipos_disponibles, 2)\n",
        "        partido = tuple(sorted((e1, e2)))\n",
        "        partidos.add(partido)\n",
        "        # Elimina los equipos usados para evitar repeticiones\n",
        "        equipos_disponibles.remove(e1)\n",
        "        equipos_disponibles.remove(e2)\n",
        "    return list(partidos)\n",
        "\n",
        "\n",
        "\n",
        "# Unimos todos los equipos en una sola lista\n",
        "\n",
        "equipos_totales = equipos_A + equipos_B + equipos_C\n",
        "\n",
        "# Horarios segun el enunciado\n",
        "horarios = [\"Viernes 20\", \"Sábado 12\", \"Sábado 16\", \"Sábado 18\", \"Sábado 20\",\n",
        "            \"Domingo 12\", \"Domingo 16\", \"Domingo 18\", \"Domingo 20\", \"Lunes 20\"]\n",
        "\n",
        "# Categorías de equipos\n",
        "categorias = {\n",
        "    \"A1\": \"A\", \"A2\": \"A\", \"A3\": \"A\",\n",
        "    \"B1\": \"B\", \"B2\": \"B\", \"B3\": \"B\", \"B4\": \"B\", \"B5\": \"B\", \"B6\": \"B\", \"B7\": \"B\", \"B8\": \"B\",\"B9\": \"B\",\"B10\": \"B\", \"B11\": \"B\",\n",
        "    \"C1\": \"C\", \"C2\":\"C\", \"C3\": \"C\", \"C4\": \"C\", \"C5\": \"C\", \"C6\": \"C\"\n",
        "}\n",
        "\n",
        "# Audiencia base según categorías de enfrentamientos\n",
        "audiencia_base = {\n",
        "    (\"A\", \"A\"): 2.0,\n",
        "    (\"A\", \"B\"): 1.3,\n",
        "    (\"A\", \"C\"): 1.0,\n",
        "    (\"B\", \"B\"): 0.75,\n",
        "    (\"B\", \"C\"): 0.6,\n",
        "    (\"C\", \"C\"): 0.5\n",
        "}\n",
        "\n",
        "# Coeficiente de audiencia según horario\n",
        "coef_horario = {\n",
        "    \"Viernes 20\": 0.4,\n",
        "    \"Sábado 12\": 0.55,\n",
        "    \"Sábado 16\": 0.7,\n",
        "    \"Sábado 18\": 0.8,\n",
        "    \"Sábado 20\": 1.0,\n",
        "    \"Domingo 12\": 0.45,\n",
        "    \"Domingo 16\": 0.75,\n",
        "    \"Domingo 18\": 0.85,\n",
        "    \"Domingo 20\": 1.0,\n",
        "    \"Lunes 20\": 0.4\n",
        "}\n",
        "\n",
        "# Penalización por coincidencia\n",
        "\n",
        "penalizacion = {\n",
        "    0: 1.0,  # sin coincidencias\n",
        "    1: 0.9,\n",
        "    2: 0.75,\n",
        "    3: 0.6\n",
        "}\n",
        "\n",
        "# Función que calcula la audiencia total de una asignación de partidos a horarios\n",
        "def calcular_audiencia(asignacion):\n",
        "    total = 0\n",
        "    coincidencias = {}\n",
        "\n",
        "    # Contamos cuántos partidos hay en cada franja horaria\n",
        "    # Esto es necesario para aplicar la penalización por coincidencia\n",
        "    for horario in asignacion.values():\n",
        "        coincidencias[horario] = coincidencias.get(horario, 0) + 1\n",
        "\n",
        "    # Calculamos la audiencia individual de cada partido ya asignado\n",
        "    for partido, horario in asignacion.items():\n",
        "        c1 = categorias[partido[0]]  # Categoría del primer equipo\n",
        "        c2 = categorias[partido[1]]  # Categoría del segundo equipo\n",
        "\n",
        "        # Buscamos la audiencia base del tipo de enfrentamiento (A vs B, B vs C, etc.)\n",
        "        base = audiencia_base.get((c1, c2), audiencia_base.get((c2, c1), 0))\n",
        "\n",
        "        coef = coef_horario[horario]  # Coeficiente de interés de esa franja horaria\n",
        "\n",
        "        # Penalización si hay más de un partido en ese horario\n",
        "        penal = penalizacion.get(coincidencias[horario] - 1, 0.7)\n",
        "\n",
        "        # Se suma la audiencia ajustada de este partido al total\n",
        "        total += base * coef * penal\n",
        "\n",
        "    return total  # Audiencia total para la asignación dada\n",
        "\n",
        "\n",
        "# Inicializamos las variables globales que almacenarán la mejor solución encontrada\n",
        "mejor_audiencia = 0\n",
        "mejor_asignacion = {}\n",
        "\n",
        "# Función principal de backtracking con poda\n",
        "def backtracking(asignacion_actual, partidos_restantes, horarios_disponibles):\n",
        "    global mejor_audiencia, mejor_asignacion\n",
        "\n",
        "    # Caso base: ya no quedan partidos por asignar\n",
        "    if not partidos_restantes:\n",
        "        audiencia = calcular_audiencia(asignacion_actual)\n",
        "        # Si la audiencia de esta asignación es mejor que la mejor hasta ahora, la guardamos\n",
        "        if audiencia > mejor_audiencia:\n",
        "            mejor_audiencia = audiencia\n",
        "            mejor_asignacion = asignacion_actual.copy()\n",
        "        return\n",
        "\n",
        "    # Seleccionamos el siguiente partido a asignar\n",
        "    partido = partidos_restantes[0]\n",
        "\n",
        "    # Probamos todos los horarios disponibles para este partido\n",
        "    for i, horario in enumerate(horarios_disponibles):\n",
        "        nuevos_horarios = horarios_disponibles[:]  # Copia para evitar modificar la lista original\n",
        "\n",
        "        asignacion_actual[partido] = horario  # Asignamos este horario al partido\n",
        "\n",
        "        nuevos_horarios.pop(i)  # Eliminamos el horario asignado de la lista disponible\n",
        "\n",
        "        # Estimación optimista del máximo que se puede alcanzar desde esta asignación parcial\n",
        "        max_posible = calcular_max_posible(asignacion_actual, partidos_restantes[1:], nuevos_horarios)\n",
        "\n",
        "        # Si ni en el mejor caso podríamos superar la mejor audiencia actual, no seguimos por aquí (poda)\n",
        "        if max_posible <= mejor_audiencia:\n",
        "            continue  # Saltamos esta rama del árbol de decisiones\n",
        "\n",
        "        # Llamada recursiva para seguir asignando el resto de partidos\n",
        "        backtracking(asignacion_actual, partidos_restantes[1:], nuevos_horarios)\n",
        "\n",
        "        # Deshacemos la asignación para probar otro horario\n",
        "        del asignacion_actual[partido]\n",
        "\n",
        "\n",
        "# Función que estima la mejor audiencia que podríamos conseguir desde el estado actual\n",
        "def calcular_max_posible(asignacion_parcial, partidos_restantes, horarios_disponibles):\n",
        "    # Calculamos la audiencia de lo que ya está asignado\n",
        "    audiencia_actual = calcular_audiencia(asignacion_parcial)\n",
        "\n",
        "    # Contamos cuántos horarios quedan disponibles de cada tipo\n",
        "    horarios_restantes = {}\n",
        "    for h in horarios_disponibles:\n",
        "        horarios_restantes[h] = horarios_restantes.get(h, 0) + 1\n",
        "\n",
        "    max_estimado = 0  # Aquí vamos sumando la mejor audiencia posible para lo que falta\n",
        "\n",
        "    for partido in partidos_restantes:\n",
        "        c1 = categorias[partido[0]]\n",
        "        c2 = categorias[partido[1]]\n",
        "        base = audiencia_base.get((c1, c2), audiencia_base.get((c2, c1), 0))\n",
        "\n",
        "        mejor_coef = 0  # Buscamos el mejor coeficiente de horario disponible\n",
        "\n",
        "        # Recorremos los horarios disponibles y elegimos el de mayor interés\n",
        "        for horario in horarios_restantes:\n",
        "            if horarios_restantes[horario] > 0 and coef_horario[horario] > mejor_coef:\n",
        "                mejor_coef = coef_horario[horario]\n",
        "\n",
        "        if mejor_coef > 0:\n",
        "            # Sumamos la audiencia de este partido suponiendo el mejor caso (sin penalización)\n",
        "            max_estimado += base * mejor_coef\n",
        "\n",
        "            # \"Reservamos\" ese horario para no usarlo dos veces\n",
        "            for h in horarios_restantes:\n",
        "                if coef_horario[h] == mejor_coef:\n",
        "                    horarios_restantes[h] -= 1\n",
        "                    break\n",
        "\n",
        "    # Devolvemos la suma de lo ya asignado más la mejor estimación para lo que queda\n",
        "    return audiencia_actual + max_estimado\n",
        "\n",
        "# Generamos 10 partidos aleatorios\n",
        "partidos = generar_partidos(equipos_totales, 10)\n",
        "\n",
        "#partidos = (('A1', 'C5'), ('B11', 'C1'), ('A2', 'B9'), ('B7', 'C3'), ('B1', 'B10'), ('A3', 'B6'), ('B2', 'C2'), ('B8', 'C4'), ('B3', 'B5'), ('B4', 'C6')). Se usó cómo prueba para ver que siempre devolvía el mismo resultado\n",
        "\n",
        "print(partidos)\n",
        "\n",
        "\n",
        "# Llamamos al algoritmo de backtracking con los datos iniciales:\n",
        "# - asignación vacía\n",
        "# - lista completa de partidos\n",
        "# - todos los horarios disponibles\n",
        "backtracking({}, partidos, horarios.copy())\n",
        "\n",
        "\n",
        "\n",
        "# Mostramos la mejor asignación encontrada y su audiencia total\n",
        "print(\"Mejor asignación encontrada:\")\n",
        "for partido, horario in mejor_asignacion.items():\n",
        "    print(f\"{partido[0]} vs {partido[1]} → {horario}\")\n",
        "\n",
        "print(f\"Audiencia total: {mejor_audiencia:.2f} millones\")\n"
      ],
      "outputs": [
        {
          "output_type": "stream",
          "name": "stdout",
          "text": [
            "[('C4', 'C6'), ('B8', 'B9'), ('A2', 'B10'), ('B4', 'C2'), ('B2', 'C3'), ('A3', 'B5'), ('C1', 'C5'), ('B1', 'B11'), ('B6', 'B7'), ('A1', 'B3')]\n",
            "Mejor asignación encontrada:\n",
            "C4 vs C6 → Viernes 20\n",
            "B8 vs B9 → Sábado 16\n",
            "B6 vs B7 → Domingo 16\n",
            "A2 vs B10 → Domingo 18\n",
            "B4 vs C2 → Sábado 12\n",
            "B2 vs C3 → Domingo 12\n",
            "A3 vs B5 → Domingo 20\n",
            "C1 vs C5 → Lunes 20\n",
            "B1 vs B11 → Sábado 18\n",
            "A1 vs B3 → Sábado 20\n",
            "Audiencia total: 6.39 millones\n"
          ]
        }
      ],
      "execution_count": 9
    },
    {
      "cell_type": "markdown",
      "metadata": {
        "id": "eTFWUJQrtGcv"
      },
      "source": [
        "Enumera las referencias que has utilizado(si ha sido necesario) para llevar a cabo el trabajo"
      ]
    },
    {
      "cell_type": "markdown",
      "metadata": {
        "id": "YKQ_mRBttWsP"
      },
      "source": [
        "Para usar el generador de partidos, se ha investigado sobre la función random https://www.geeksforgeeks.org/python/python-random-sample-function/\n",
        "\n",
        "Para ver más ejemplos de backtracking https://brilliant.org/wiki/recursive-backtracking/\n",
        "\n",
        "Para depurar el código y obtener ayuda con algunas funciones se ha usado la IA de OpenAI https://chatgpt.com/"
      ]
    },
    {
      "cell_type": "markdown",
      "metadata": {
        "id": "kAkDPUyRtYyH"
      },
      "source": [
        "Describe brevemente las lineas de como crees que es posible avanzar en el estudio del problema. Ten en cuenta incluso posibles variaciones del problema y/o variaciones al alza del tamaño"
      ]
    },
    {
      "cell_type": "markdown",
      "metadata": {
        "id": "IE0uZmo-tZu-"
      },
      "source": [
        "Pese a que aún no hemos llegado a estudiar con profundidad este campo, creo que una  forma innovadora de avanzar en este problema podría ser aplicar aprendizaje por refuerzo, donde un agente inteligente aprendería a asignar partidos a horarios maximizando la audiencia total. En este enfoque, el entorno simularía la asignación de partidos y calcularía el resultado basado en la audiencia generada. El estado incluiría información como la asignación parcial actual, los horarios disponibles, la categoría de los equipos implicados y, opcionalmente, factores contextuales como si hay festividades locales, derbis o eventos especiales en las ciudades de los equipos. Las acciones del agente consisten en elegir el horario óptimo para cada partido, y la recompensa puede definirse de forma inmediata (audiencia incremental) o final (audiencia total al completar la jornada). A medida que se entrena, el agente aprende de asignaciones pasadas, identificando patrones que llevan a mejores resultados, como evitar concentrar demasiados partidos en franjas de baja audiencia o anticiparse a situaciones con alta demanda."
      ]
    }
  ]
}