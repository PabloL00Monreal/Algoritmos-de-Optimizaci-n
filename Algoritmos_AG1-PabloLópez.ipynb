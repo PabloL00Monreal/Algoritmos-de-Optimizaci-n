{
  "cells": [
    {
      "cell_type": "markdown",
      "metadata": {
        "id": "kQn6fbhgtH9I"
      },
      "source": [
        "#Algoritmos - Actividad Guiada 1\n",
        "\n",
        "Nombre: Pablo López Lorente<br>\n",
        "URL: https://colab.research.google.com/github/PabloL00Monreal/Algoritmos-de-Optimizaci-n/blob/main/Algoritmos_AG1-PabloL%C3%B3pez.ipynb\n",
        "\n",
        "https://github.com/PabloL00Monreal/Algoritmos-de-Optimizaci-n\n",
        "\n"
      ]
    },
    {
      "cell_type": "markdown",
      "metadata": {
        "id": "_t62Ge7ZuKnC"
      },
      "source": [
        "##Torres de Hanoi con Divide y vencerás"
      ]
    },
    {
      "cell_type": "code",
      "execution_count": null,
      "metadata": {
        "colab": {
          "base_uri": "https://localhost:8080/"
        },
        "id": "i32G0CUQvauE",
        "outputId": "c3398cec-661d-46a5-b9db-0a0ad168f64a"
      },
      "outputs": [
        {
          "name": "stdout",
          "output_type": "stream",
          "text": [
            "1: Lleva la ficha 1 hasta 3\n",
            "2: Lleva la ficha 1 hasta 2\n",
            "3: Lleva la ficha 3 hasta 2\n",
            "4: Lleva la ficha 1 hasta 3\n",
            "5: Lleva la ficha 2 hasta 1\n",
            "6: Lleva la ficha 2 hasta 3\n",
            "7: Lleva la ficha 1 hasta 3\n"
          ]
        }
      ],
      "source": [
        "def Torres_Hanoi(N, desde, hasta, contador=[0]):\n",
        "    if N <= 0:\n",
        "        print(\"Número de discos inválido\")\n",
        "        return\n",
        "    if N == 1:\n",
        "        contador[0] += 1\n",
        "        print(f\"{contador[0]}: Lleva la ficha {desde} hasta {hasta}\")\n",
        "    else:\n",
        "        Torres_Hanoi(N-1, desde, 6 - desde - hasta, contador)\n",
        "        contador[0] += 1\n",
        "        print(f\"{contador[0]}: Lleva la ficha {desde} hasta {hasta}\")\n",
        "        Torres_Hanoi(N-1, 6 - desde - hasta, hasta, contador)\n",
        "\n",
        "\n",
        "Torres_Hanoi(3, 1 , 3)"
      ]
    },
    {
      "cell_type": "code",
      "execution_count": null,
      "metadata": {
        "colab": {
          "base_uri": "https://localhost:8080/"
        },
        "id": "74qZZAekiNYR",
        "outputId": "acc17268-7f87-4de4-ae5a-4fc6ce09d385"
      },
      "outputs": [
        {
          "ename": "ValueError",
          "evalue": "N debe ser un número entero no negativo",
          "output_type": "error",
          "traceback": [
            "\u001b[31m---------------------------------------------------------------------------\u001b[39m",
            "\u001b[31mValueError\u001b[39m                                Traceback (most recent call last)",
            "\u001b[36mCell\u001b[39m\u001b[36m \u001b[39m\u001b[32mIn[8]\u001b[39m\u001b[32m, line 13\u001b[39m\n\u001b[32m     10\u001b[39m         \u001b[38;5;28;01mreturn\u001b[39;00m Fibonacci(N - \u001b[32m1\u001b[39m) + Fibonacci(N - \u001b[32m2\u001b[39m)\n\u001b[32m     12\u001b[39m \u001b[38;5;66;03m# Ejemplo de uso:\u001b[39;00m\n\u001b[32m---> \u001b[39m\u001b[32m13\u001b[39m \u001b[38;5;28mprint\u001b[39m(\u001b[43mFibonacci\u001b[49m\u001b[43m(\u001b[49m\u001b[43m-\u001b[49m\u001b[32;43m5\u001b[39;49m\u001b[43m)\u001b[49m)  \u001b[38;5;66;03m# 8\u001b[39;00m\n",
            "\u001b[36mCell\u001b[39m\u001b[36m \u001b[39m\u001b[32mIn[8]\u001b[39m\u001b[32m, line 6\u001b[39m, in \u001b[36mFibonacci\u001b[39m\u001b[34m(N)\u001b[39m\n\u001b[32m      4\u001b[39m \u001b[38;5;28;01mdef\u001b[39;00m\u001b[38;5;250m \u001b[39m\u001b[34mFibonacci\u001b[39m(N: \u001b[38;5;28mint\u001b[39m):\n\u001b[32m      5\u001b[39m     \u001b[38;5;28;01mif\u001b[39;00m \u001b[38;5;129;01mnot\u001b[39;00m \u001b[38;5;28misinstance\u001b[39m(N, \u001b[38;5;28mint\u001b[39m) \u001b[38;5;129;01mor\u001b[39;00m N < \u001b[32m0\u001b[39m:\n\u001b[32m----> \u001b[39m\u001b[32m6\u001b[39m         \u001b[38;5;28;01mraise\u001b[39;00m \u001b[38;5;167;01mValueError\u001b[39;00m(\u001b[33m\"\u001b[39m\u001b[33mN debe ser un número entero no negativo\u001b[39m\u001b[33m\"\u001b[39m)\n\u001b[32m      7\u001b[39m     \u001b[38;5;28;01mif\u001b[39;00m N < \u001b[32m2\u001b[39m:\n\u001b[32m      8\u001b[39m         \u001b[38;5;28;01mreturn\u001b[39;00m \u001b[32m1\u001b[39m\n",
            "\u001b[31mValueError\u001b[39m: N debe ser un número entero no negativo"
          ]
        }
      ],
      "source": [
        "#Sucesión_de_Fibonacci\n",
        "#https://es.wikipedia.org/wiki/Sucesi%C3%B3n_de_Fibonacci\n",
        "#Calculo del termino n-simo de la suscesión de Fibonacci\n",
        "def Fibonacci(N: int):\n",
        "    if not isinstance(N, int) or N < 0:\n",
        "        raise ValueError(\"N debe ser un número entero no negativo\")\n",
        "    if N < 2:\n",
        "        return 1\n",
        "    else:\n",
        "        return Fibonacci(N - 1) + Fibonacci(N - 2)\n",
        "\n",
        "# Ejemplo de uso:\n",
        "print(Fibonacci(-5))  # 8\n"
      ]
    },
    {
      "cell_type": "markdown",
      "metadata": {
        "id": "RgT5XJsZ429L"
      },
      "source": [
        "##Devolución de cambio por técnica voraz"
      ]
    },
    {
      "cell_type": "code",
      "execution_count": null,
      "metadata": {
        "colab": {
          "base_uri": "https://localhost:8080/"
        },
        "id": "uJtftBLU4-ap",
        "outputId": "b52f7a2c-771b-4c2e-81ab-c4c3ea01318d"
      },
      "outputs": [
        {
          "name": "stdout",
          "output_type": "stream",
          "text": [
            "[0, 1, 1, 0]\n",
            "None\n"
          ]
        }
      ],
      "source": [
        "def cambio_monedas(N, SM):\n",
        "    SOLUCION = [0]*len(SM)\n",
        "    ValorAcumulado = 0\n",
        "    for i, valor in enumerate(SM):\n",
        "        monedas = (N - ValorAcumulado) // valor\n",
        "        SOLUCION[i] = monedas\n",
        "        ValorAcumulado += monedas * valor\n",
        "    if ValorAcumulado == N:\n",
        "        return SOLUCION\n",
        "    else:\n",
        "        return None  # No es posible hacer el cambio\n",
        "\n",
        "# Ejemplo de uso:\n",
        "print(cambio_monedas(15, [25, 10, 5, 1]))  # [0,1,1,0]\n",
        "print(cambio_monedas(12, [25, 20, 19, 18]))  #"
      ]
    },
    {
      "cell_type": "markdown",
      "metadata": {
        "id": "g8M9GTvy_Fa3"
      },
      "source": [
        "## N-Reinas por técnica de vueta atrás\n"
      ]
    },
    {
      "cell_type": "code",
      "execution_count": null,
      "metadata": {
        "id": "FqOPyCmv_K65"
      },
      "outputs": [],
      "source": [
        "def escribe(S):\n",
        "  n = len(S)\n",
        "  for x in range(n):\n",
        "    print(\"\")\n",
        "    for i in range(n):\n",
        "      if S[i] == x+1:\n",
        "        print(\" X \" , end=\"\")\n",
        "      else:\n",
        "        print(\" - \", end=\"\")\n",
        "\n",
        "\n",
        "def es_prometedora(SOLUCION,etapa):\n",
        "  #print(SOLUCION)\n",
        "  #Si la solución tiene dos valores iguales no es valida => Dos reinas en la misma fila\n",
        "  for i in range(etapa+1):\n",
        "    #print(\"El valor \" + str(SOLUCION[i]) + \" está \" +  str(SOLUCION.count(SOLUCION[i])) + \" veces\")\n",
        "    if SOLUCION.count(SOLUCION[i]) > 1:\n",
        "      return False\n",
        "\n",
        "    #Verifica las diagonales\n",
        "    for j in range(i+1, etapa +1 ):\n",
        "      #print(\"Comprobando diagonal de \" + str(i) + \" y \" + str(j))\n",
        "      if abs(i-j) == abs(SOLUCION[i]-SOLUCION[j]) : return False\n",
        "  return True\n",
        "\n",
        "\n",
        "\n",
        "def reinas(N, solucion=[], etapa=0):\n",
        "  if len(solucion) == 0:\n",
        "      solucion=[0 for i in range(N)]\n",
        "\n",
        "  for i in range(1, N+1):\n",
        "    solucion[etapa] = i\n",
        "\n",
        "    if es_prometedora(solucion, etapa):\n",
        "      if etapa == N-1:\n",
        "        print(solucion)\n",
        "        #escribe(solucion)\n",
        "        print()\n",
        "      else:\n",
        "        reinas(N, solucion, etapa+1)\n",
        "    else:\n",
        "      None\n",
        "\n",
        "    solucion[etapa] = 0\n",
        "\n",
        "reinas(8)"
      ]
    },
    {
      "cell_type": "markdown",
      "metadata": {
        "id": "p1VZhNzjUfiy"
      },
      "source": [
        "## Viaje por el rio. Programación dinámica"
      ]
    },
    {
      "cell_type": "code",
      "execution_count": null,
      "metadata": {
        "colab": {
          "base_uri": "https://localhost:8080/",
          "height": 351
        },
        "id": "qoqU1XciUdRn",
        "outputId": "541c88e8-e686-4c32-c7e6-812759702496"
      },
      "outputs": [
        {
          "name": "stdout",
          "output_type": "stream",
          "text": [
            "Ruta final de 0 a 6:\n",
            "0,0,2,5,6\n"
          ]
        }
      ],
      "source": [
        "TARIFAS = [\n",
        "    [0, 5, 4, 3, 999, 999, 999],\n",
        "    [999, 0, 999, 2, 3, 999, 11],\n",
        "    [999, 999, 0, 1, 999, 4, 10],\n",
        "    [999, 999, 999, 0, 5, 6, 9],\n",
        "    [999, 999, 999, 999, 0, 999, 4],\n",
        "    [999, 999, 999, 999, 999, 0, 3],\n",
        "    [999, 999, 999, 999, 999, 999, 0]\n",
        "]\n",
        "\n",
        "def Precios(TARIFAS):\n",
        "    N = len(TARIFAS[0])\n",
        "    PRECIOS = [[9999]*N for _ in range(N)]\n",
        "    RUTA = [[\"\"]*N for _ in range(N)]\n",
        "    for i in range(N):\n",
        "        RUTA[i][i] = i\n",
        "        PRECIOS[i][i] = 0\n",
        "        for j in range(i+1, N):\n",
        "            MIN = TARIFAS[i][j]\n",
        "            RUTA[i][j] = i\n",
        "            for k in range(i, j):\n",
        "                if PRECIOS[i][k] + TARIFAS[k][j] < MIN:\n",
        "                    MIN = PRECIOS[i][k] + TARIFAS[k][j]\n",
        "                    RUTA[i][j] = k\n",
        "            PRECIOS[i][j] = MIN\n",
        "    return PRECIOS, RUTA\n",
        "\n",
        "def calcular_ruta(RUTA, desde, hasta):\n",
        "    if desde == hasta:\n",
        "        return str(desde)\n",
        "    else:\n",
        "        return calcular_ruta(RUTA, desde, RUTA[desde][hasta]) + ',' + str(RUTA[desde][hasta])\n",
        "\n",
        "# Ejemplo:\n",
        "PRECIOS, RUTA = Precios(TARIFAS)\n",
        "print(\"Ruta final de 0 a 6:\")\n",
        "print(calcular_ruta(RUTA, 0, 6) + \",6\")\n"
      ]
    }
  ],
  "metadata": {
    "colab": {
      "provenance": []
    },
    "kernelspec": {
      "display_name": "Python 3",
      "name": "python3"
    },
    "language_info": {
      "codemirror_mode": {
        "name": "ipython",
        "version": 3
      },
      "file_extension": ".py",
      "mimetype": "text/x-python",
      "name": "python",
      "nbconvert_exporter": "python",
      "pygments_lexer": "ipython3",
      "version": "3.13.2"
    }
  },
  "nbformat": 4,
  "nbformat_minor": 0
}